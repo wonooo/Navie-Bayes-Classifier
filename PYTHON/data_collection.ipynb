{
 "cells": [
  {
   "cell_type": "code",
   "execution_count": 12,
   "id": "b46eeed4",
   "metadata": {},
   "outputs": [],
   "source": [
    "from urllib.request import urlopen\n",
    "import urllib.request as req\n",
    "from bs4 import BeautifulSoup\n",
    "from fake_useragent import UserAgent\n",
    "\n",
    "from pandas import Series, DataFrame\n",
    "import pandas as pd\n",
    "import numpy as np\n",
    "import datetime"
   ]
  },
  {
   "cell_type": "code",
   "execution_count": null,
   "id": "f79c8eb4",
   "metadata": {},
   "outputs": [],
   "source": [
    "# 자동화코드\n",
    "# 첫번째 if문: li의 개수가 10개임에 불구하고 수집과정에는 10개가 되지않아 에러가 발생\n",
    "# 두번째 if문: 네이버 리뷰의 경우 리뷰의 내용이 길면 더보기를 눌러야만 전체 내용이 수집됨,\n",
    "#              따라서 더뷰기가 있는 경우, 'span._unfold_ment > a'가 존재하기에 이것을 수집\n",
    "\n",
    "score = []\n",
    "review = []\n",
    "id = []\n",
    "date = []\n",
    "\n",
    "for page in range(1, 805):\n",
    "    url = 'https://movie.naver.com/movie/bi/mi/pointWriteFormList.nhn?code=190010&type=after&isActualPointWriteExecute=false&isMileageSubscriptionAlready=false&isMileageSubscriptionReject=false&page='+str(page)\n",
    "    html = urlopen(url)\n",
    "    soup = BeautifulSoup(html, \"html.parser\")\n",
    "    \n",
    "    li = soup.select('div.ifr_area.basic_ifr > div.input_netizen  > div.score_result > ul > li')\n",
    "\n",
    "    if len(li) != 10:\n",
    "        page = page + 1\n",
    "    else:\n",
    "        for i in li:\n",
    "            score.append(int(i.select('div.star_score > em')[0].text))\n",
    "            id.append(i.select('div.score_reple > dl > dt')[0].text.strip()[:-19])\n",
    "            date.append(i.select('div.score_reple > dl > dt')[0].text.strip()[-16:-6])\n",
    "        for i in range(0,10):\n",
    "            span = li[i].select('div.score_reple > p > span#_filtered_ment_'+str(i))\n",
    "            if span[0].select('span._unfold_ment > a') == []:\n",
    "                review.append(li[i].select('div.score_reple > p')[0].text.strip().lstrip('관람객').strip().lstrip('스포일러가 포함된 감상평입니다. 감상평 보기').strip())\n",
    "            else:\n",
    "                review.append(span[0].select('span._unfold_ment > a')[0]['data-src'])\n",
    "        page = page + 1\n",
    "\n",
    "movie = DataFrame({'date': date, 'id': id, 'review': review, 'score': score})"
   ]
  },
  {
   "cell_type": "code",
   "execution_count": null,
   "id": "92344ffc",
   "metadata": {},
   "outputs": [],
   "source": [
    "# review 값이 없는 행 제거  -> 7455개\n",
    "movie = movie.drop(movie[movie.review == ''].index)"
   ]
  },
  {
   "cell_type": "code",
   "execution_count": 9,
   "id": "f5717692",
   "metadata": {},
   "outputs": [],
   "source": [
    "import pickle"
   ]
  },
  {
   "cell_type": "code",
   "execution_count": null,
   "id": "83b4102b",
   "metadata": {},
   "outputs": [],
   "source": [
    "# 변수형태 그대로 바이너리 파일로 저장하기\n",
    "with open('c:/data/movie_tenet.pkl', 'wb') as file:\n",
    "    pickle.dump(movie, file)"
   ]
  },
  {
   "cell_type": "code",
   "execution_count": 9,
   "id": "cb1b6519",
   "metadata": {},
   "outputs": [],
   "source": [
    "# 바이너리파일 불러오기\n",
    "with open('c:/data/movie_tenet.pkl', 'rb') as file:\n",
    "    movie_tenet = pickle.load(file)\n",
    "\n",
    "movie = movie_tenet"
   ]
  },
  {
   "cell_type": "code",
   "execution_count": null,
   "id": "8ebb9b00",
   "metadata": {},
   "outputs": [],
   "source": [
    "# -------------------점수별 리뷰 수-------------------\n",
    "df1 = movie.review.groupby(movie.score).count()\n",
    "\n",
    "df1 = df1.reset_index()\n",
    "df1.columns = ['score', 'count']"
   ]
  },
  {
   "cell_type": "code",
   "execution_count": null,
   "id": "5616860f",
   "metadata": {},
   "outputs": [],
   "source": [
    "import matplotlib.pylab as plt\n",
    "from matplotlib import font_manager, rc\n",
    "font_name = font_manager.FontProperties(fname='c:\\windows/fonts/malgun.ttf').get_name()\n",
    "rc('font', family=font_name)\n",
    "\n",
    "plt.bar(df1['score'], df1['count'], color = 'green')\n",
    "plt.xticks(df1.score)\n",
    "plt.title('점수별 리뷰 수 현황', size=10)\n",
    "plt.xlabel('점수', size=8)\n",
    "plt.ylabel('리뷰수', size=8)\n",
    "for i in df1.index:\n",
    "    plt.text(i+0.75, df1['count'][i]+7, df1['count'][i])\n",
    "\n",
    "np.mean(movie.score)"
   ]
  },
  {
   "cell_type": "code",
   "execution_count": null,
   "id": "77c418c4",
   "metadata": {},
   "outputs": [],
   "source": [
    "# -------------------요일별 리뷰 수-------------------\n",
    "\n",
    "week = []\n",
    "for i in movie.date:\n",
    "    week.append(int(datetime.datetime.strptime(i, '%Y.%m.%d').strftime('%w')))\n",
    "movie['week'] = week\n",
    "movie.review.groupby(movie.week).count()"
   ]
  },
  {
   "cell_type": "code",
   "execution_count": null,
   "id": "7f476648",
   "metadata": {},
   "outputs": [],
   "source": [
    "df2 = movie.review.groupby(movie.week).count()\n",
    "\n",
    "df2 = df2.reset_index()\n",
    "df2.columns = ['weekday', 'count']"
   ]
  },
  {
   "cell_type": "code",
   "execution_count": null,
   "id": "f6ce2193",
   "metadata": {},
   "outputs": [],
   "source": [
    "import matplotlib.pylab as plt\n",
    "from matplotlib import font_manager, rc\n",
    "font_name = font_manager.FontProperties(fname='c:\\windows/fonts/malgun.ttf').get_name()\n",
    "rc('font', family=font_name)\n",
    "\n",
    "plt.bar(df2['weekday'], df2['count'], color = '#de956d')\n",
    "plt.xticks(df2.weekday, '일월화수목금토')\n",
    "plt.title('요일별 리뷰 수', size=10)\n",
    "#lt.xlabel('요일', size=8)\n",
    "plt.ylabel('리뷰수', size=8)\n",
    "for i in df2.index:\n",
    "    plt.text(i-0.2, df2['count'][i]+5, df2['count'][i])"
   ]
  },
  {
   "cell_type": "code",
   "execution_count": null,
   "id": "9c5c759c",
   "metadata": {},
   "outputs": [],
   "source": [
    "# -------------------날짜별 리뷰 수-------------------\n",
    "movie.review.groupby(movie.date).count()"
   ]
  },
  {
   "cell_type": "code",
   "execution_count": null,
   "id": "771b46b7",
   "metadata": {},
   "outputs": [],
   "source": [
    "import datetime\n",
    "\n",
    "days = []\n",
    "for i in movie['date']:\n",
    "    days.append((datetime.datetime.strptime(i, '%Y.%m.%d') - datetime.datetime(2020,8,26)).days)\n",
    "movie['days'] = days"
   ]
  },
  {
   "cell_type": "code",
   "execution_count": null,
   "id": "2a04744e",
   "metadata": {},
   "outputs": [],
   "source": [
    "df3 = movie.review.groupby(movie.days).count()\n",
    "plt.plot(df3.index, df3, color='#de956d', linestyle='-')\n",
    "plt.title('날짜별 리뷰 수', size=10)\n",
    "plt.ylabel('리뷰수', size=8)\n",
    "plt.vlines(50, -3, 910, color = 'black')"
   ]
  },
  {
   "cell_type": "code",
   "execution_count": null,
   "id": "2bee013d",
   "metadata": {},
   "outputs": [],
   "source": [
    "# 50일 이전만 확대 그래프\n",
    "df3_50 = df3.sort_index().head(n=50)\n",
    "\n",
    "plt.plot(df3_50.index, df3_50, color='#de956d', linestyle='-')\n",
    "plt.title('개봉 50일 이내의 날짜별 리뷰 수', size=10)\n",
    "plt.ylabel('리뷰수', size=8)\n",
    "plt.text(0.3, df3_50[0]-15, df3_50[0])\n",
    "plt.text(9.8, df3_50[11]+10, df3_50[11])"
   ]
  }
 ],
 "metadata": {
  "kernelspec": {
   "display_name": "Python 3",
   "language": "python",
   "name": "python3"
  },
  "language_info": {
   "codemirror_mode": {
    "name": "ipython",
    "version": 3
   },
   "file_extension": ".py",
   "mimetype": "text/x-python",
   "name": "python",
   "nbconvert_exporter": "python",
   "pygments_lexer": "ipython3",
   "version": "3.8.8"
  }
 },
 "nbformat": 4,
 "nbformat_minor": 5
}
