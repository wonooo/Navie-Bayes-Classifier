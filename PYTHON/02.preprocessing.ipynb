{
 "cells": [
  {
   "cell_type": "code",
   "execution_count": null,
   "id": "1c01d493",
   "metadata": {},
   "outputs": [],
   "source": [
    "--------------------------------------------------------------------\n",
    "▣ 정규표현식(Regular Expression)\n",
    "메타문자 : 원래 문자가 가진 뜻이 아닌 특별한 용도로 사용되는 문자\n",
    "\n",
    "[] : []사이의 문자들과 매치\n",
    "[^] : not []사이의 문자가 아닌 \n",
    "[a-c] : a,b,c\n",
    "[a-zA-Z] : 알파벳\n",
    "[ㄱ-ㅎ가-힣] : 한글\n",
    "[!@#$%^&*-] : 특수문자\n",
    "[0-9] : 숫자\n",
    "\\d : 숫자\n",
    "\\D : 숫자가 아닌것 [^0-9]와 동일\n",
    "\\s : 공백문자\n",
    "\\S : 공백문자가 아닌것\n",
    "\\w : 문자또는 숫자 [a-zA-Z0-9]\n",
    "\\W : 문자또는 숫자가 아닌 것 \n",
    "\n",
    "^ : 시작글자\n",
    "$ : 끝나는 글자  \n",
    "\n",
    "a.b : .위치에 모든 문자\n",
    "a[.]b : .을 문자로 인식해서 찾아야할 때\n",
    "a\\.b : .을 문자로 인식해서 찾아야할 때 \n",
    "\n",
    "a*b : *바로 앞의 문자가 0번 이상인 문자열을 찾는다 ab,aaab\n",
    "a+b : *바로 앞의 문자가 1번 이상인 문자열을 찾는다 aab,aaab\n",
    "ab?c : ?바로 앞의 문자가 0번 또는 1번 반복을 찾는다 ac, abc\n",
    "\n",
    "a{2}b : {n} 바로 앞의 문자가 n번 반복되는 문자열을 찾는다\n",
    "a{2, 3}b : {n} 바로 앞의 문자가 n번 또는 m번 반복되는 문자열을 찾는다\n",
    "a{2, }b : {n} 바로 앞의 문자가 n번이상 반복되는 문자열을 찾는다\n",
    "\n",
    "a|b : a 또는 b\n",
    " \n",
    " --------------------------------------------------------------------"
   ]
  },
  {
   "cell_type": "code",
   "execution_count": 7,
   "id": "0e653b36",
   "metadata": {},
   "outputs": [],
   "source": [
    "import re\n",
    "import pandas as pd\n",
    "import numpy as np"
   ]
  },
  {
   "cell_type": "code",
   "execution_count": null,
   "id": "5354d495",
   "metadata": {},
   "outputs": [],
   "source": [
    "movie\n",
    "movie.info()"
   ]
  },
  {
   "cell_type": "code",
   "execution_count": null,
   "id": "b5d958e5",
   "metadata": {},
   "outputs": [],
   "source": [
    "movie.review[0]\n",
    "movie.review[20]"
   ]
  },
  {
   "cell_type": "code",
   "execution_count": null,
   "id": "b41ad313",
   "metadata": {},
   "outputs": [],
   "source": [
    "--------------------전처리\n",
    "\n",
    "#[re.sub('영화', '테넷', i) for i in movie.review[1:3]]     # 공식"
   ]
  },
  {
   "cell_type": "code",
   "execution_count": null,
   "id": "55dd3962",
   "metadata": {},
   "outputs": [],
   "source": [
    "[re.findall('\\d+.', i) for i in movie.review[1:1500]]"
   ]
  },
  {
   "cell_type": "code",
   "execution_count": null,
   "id": "700a2627",
   "metadata": {},
   "outputs": [],
   "source": [
    "[re.findall('[a-zA-Z]+', i) for i in movie.review[1:1500]]    # ost, OST, Ost, BGM, bgm, TENET, tenet, cgv, CGV, "
   ]
  },
  {
   "cell_type": "code",
   "execution_count": null,
   "id": "d7d6306f",
   "metadata": {},
   "outputs": [],
   "source": [
    "[re.findall('[a-zA-Z]+', i) for i in movie.review[1500:5000]]"
   ]
  },
  {
   "cell_type": "code",
   "execution_count": null,
   "id": "5b02329c",
   "metadata": {},
   "outputs": [],
   "source": [
    "[re.findall('[@#$%&*-]+', i) for i in movie.review[1:1500]]  # 가장먼저 제거   !"
   ]
  },
  {
   "cell_type": "code",
   "execution_count": null,
   "id": "5668c0cd",
   "metadata": {},
   "outputs": [],
   "source": [
    "[re.findall('|n', i) for i in movie.review[1:30]]"
   ]
  },
  {
   "cell_type": "code",
   "execution_count": null,
   "id": "f1e88123",
   "metadata": {},
   "outputs": [],
   "source": [
    "[re.findall('놀란\\w+|감독\\w+|크리스토\\w+|감독+|놀란+', i) for i in movie.review[1:300]]"
   ]
  },
  {
   "cell_type": "code",
   "execution_count": null,
   "id": "8660a344",
   "metadata": {},
   "outputs": [],
   "source": [
    "# 간단한 전처리를 진행한 데이터: clean\n",
    "review_clean = [re.sub('[@#$%&*-?“”\\.\\,\\'\\\"\\(\\)]+', '', i) for i in movie.review]\n",
    "review_clean = [re.sub('\\d+.', '', i) for i in review_clean]\n",
    "review_clean = [re.sub('ost|OST|Ost|BGM|bgm', '음향', i) for i in review_clean]\n",
    "review_clean = [re.sub('TENET|tenet', '테넷', i) for i in review_clean]\n",
    "review_clean = [re.sub('cgv|CGV', '영화관', i) for i in review_clean]\n",
    "review_clean = [re.sub('[a-zA-Z]+', '', i) for i in review_clean]"
   ]
  },
  {
   "cell_type": "code",
   "execution_count": null,
   "id": "179b9f1e",
   "metadata": {},
   "outputs": [],
   "source": [
    "# clean 데이터 전처리\n",
    "for i in review_clean:\n",
    "    if re.findall('이해안\\w+|이해불\\w+|이해못\\w+|이해를+\\w+|이해가안되서|이해하고\\w+|이해하기\\w+|이해가안|이해는가야지|이해가잘안|이해자제|이해가것냐|이해하겠|이해하것냐|이해절대|이해하는건|이해도안\\w+|이해된적이없네용|이해하지마라|이해할수없는영화|이해할필요도없고|이해불가\\w+', i) != []:\n",
    "        print(re.findall('이해안\\w+|이해불\\w+|이해못\\w+|이해를+\\w+|이해가안되서|이해하고\\w+|이해하기\\w+|이해가안|이해는가야지|이해가잘안|이해자제|이해가것냐|이해하겠|이해하것냐|이해절대|이해하는건|이해도안\\w+|이해된적이없네용|이해하지마라|이해할수없는영화|이해할필요도없고|이해불가\\w+', i))"
   ]
  },
  {
   "cell_type": "code",
   "execution_count": null,
   "id": "b78b707d",
   "metadata": {},
   "outputs": [],
   "source": [
    "for i in review_clean:\n",
    "    if re.findall('이해력\\w+|이해해\\w+|이해했\\w+|이해는했\\w+|이해가가|이해가고|이해가되더라구요|이해됨|이해함|이해가능|이해가됩\\w+|이해가쉽\\w+|이해가되\\w+|이해됐\\w+|이해됬\\w+|이해감\\w+|이해다\\w+|이해하면|이해가풀리면서|이해도되긴하는데|이해도되긴하는데|이해도되긴하는데', i) != []:\n",
    "        print(re.findall('이해력\\w+|이해해\\w+|이해했\\w+|이해는했\\w+|이해가가|이해가고|이해가되더라구요|이해됨|이해함|이해가능|이해가됩\\w+|이해가쉽\\w+|이해가되\\w+|이해됐\\w+|이해됬\\w+|이해감\\w+|이해다\\w+|이해하면|이해가풀리면서|이해도되긴하는데|이해도되긴하는데|이해도되긴하는데',i))"
   ]
  },
  {
   "cell_type": "code",
   "execution_count": null,
   "id": "752212ff",
   "metadata": {},
   "outputs": [],
   "source": [
    "for i in review_clean:\n",
    "    if re.findall('놀란\\w+|감독\\w+|크리스토\\w+|감독+|놀란+', i) != []:\n",
    "        print(re.findall('놀란\\w+|감독\\w+|크리스토\\w+|감독+|놀란+',i))"
   ]
  },
  {
   "cell_type": "code",
   "execution_count": null,
   "id": "3c75fca6",
   "metadata": {},
   "outputs": [],
   "source": [
    "for i in review_clean:\n",
    "    if re.findall('액션\\w+|액션+', i) != []:\n",
    "        print(re.findall('액션\\w+|액션+',i))"
   ]
  },
  {
   "cell_type": "code",
   "execution_count": null,
   "id": "28aa1a15",
   "metadata": {},
   "outputs": [],
   "source": [
    "for i in review_clean:\n",
    "    if re.findall('인비\\w+|인버\\w+|인버전\\w+', i) != []:\n",
    "        print(re.findall('인비\\w+|인버\\w+|인버전\\w+',i))"
   ]
  },
  {
   "cell_type": "code",
   "execution_count": null,
   "id": "604e2fbd",
   "metadata": {},
   "outputs": [],
   "source": [
    "for i in review_clean:\n",
    "    if re.findall('\\w+재미없\\w+|재미없\\w+|재미가없\\w+|재미드럽게없다|재밌진않았던', i) != []:\n",
    "        print(re.findall('\\w+재미없\\w+|재미없\\w+|재미가없\\w+|재미드럽게없다|재밌진않았던',i))"
   ]
  },
  {
   "cell_type": "code",
   "execution_count": null,
   "id": "39e677aa",
   "metadata": {},
   "outputs": [],
   "source": [
    "for i in review_clean:\n",
    "    if re.findall('\\w+재미\\w+|재미\\w+|\\w+재밌\\w+|재밌\\w+|\\w+재밋\\w+|재밋\\w+', i) != []:\n",
    "        print(re.findall('\\w+재미\\w+|재미\\w+|\\w+재밌\\w+|재밌\\w+|\\w+재밋\\w+|재밋\\w+',i))"
   ]
  },
  {
   "cell_type": "code",
   "execution_count": null,
   "id": "6ac177ad",
   "metadata": {},
   "outputs": [],
   "source": [
    "for i in review_clean:\n",
    "    if re.findall('관객가지고노는영화임걍|관객무시|관객우롱|관객이따라가긴|관객수준', i) != []:\n",
    "        print(re.findall('관객가지고노는영화임걍|관객무시|관객우롱|관객이따라가긴|관객수준',i))"
   ]
  },
  {
   "cell_type": "code",
   "execution_count": null,
   "id": "d861b5a6",
   "metadata": {},
   "outputs": [],
   "source": [
    "for i in review_clean:\n",
    "    if re.findall('로버트\\w+|패티슨\\w+|패틴슨\\w+', i) != []:\n",
    "        print(re.findall('로버트\\w+|패티슨\\w+|패틴슨\\w+',i))"
   ]
  },
  {
   "cell_type": "code",
   "execution_count": null,
   "id": "33f732b2",
   "metadata": {},
   "outputs": [],
   "source": [
    "for i in review_clean:\n",
    "    if re.findall('로버트패틴슨+\\w+', i) != []:\n",
    "        print(re.findall('로버트패틴슨+\\w+',i))"
   ]
  },
  {
   "cell_type": "code",
   "execution_count": null,
   "id": "3aa087b3",
   "metadata": {},
   "outputs": [],
   "source": [
    "for i in review_clean:\n",
    "    if re.findall('머리아\\w+|머리쓰\\w+|머리만\\w+| 머리깨\\w+|머리가\\w+', i) != []:\n",
    "        print(re.findall('머리아\\w+|머리쓰\\w+|머리만\\w+| 머리깨\\w+|머리가\\w+',i))"
   ]
  },
  {
   "cell_type": "code",
   "execution_count": null,
   "id": "98e215cb",
   "metadata": {},
   "outputs": [],
   "source": [
    "for i in review_clean:\n",
    "    if re.findall('집중도않\\w+|집중이안\\w+|집중력장애|집중안\\w+|집중 안\\w+', i) != []:\n",
    "        print(re.findall('집중도않\\w+|집중이안\\w+|집중력장애|집중안\\w+|집중 안\\w+',i))"
   ]
  },
  {
   "cell_type": "code",
   "execution_count": null,
   "id": "978a4cc5",
   "metadata": {},
   "outputs": [],
   "source": [
    "review_clean = [re.sub('이해안\\w+|이해불\\w+|이해못\\w+|이해를+\\w+|이해가안되서|이해하고\\w+|이해하기\\w+|이해가안|이해는가야지|이해가잘안|이해자제|이해가것냐|이해하겠|이해하것냐|이해절대|이해하는건|이해도안\\w+|이해된적이없네용|이해하지마라|이해할수없는영화|이해할필요도없고|이해불가\\w+', '전선', i) for i in review_clean]\n",
    "review_clean = [re.sub('이해력\\w+|이해해\\w+|이해했\\w+|이해는했\\w+|이해가가|이해가고|이해가되더라구요|이해됨|이해함|이해가능|이해가됩\\w+|이해가쉽\\w+|이해가되\\w+|이해됐\\w+|이해됬\\w+|이해감\\w+|이해다\\w+|이해하면|이해가풀리면서|이해도되긴하는데|이해도되긴하는데|이해도되긴하는데', '우롱차', i) for i in review_clean]\n",
    "review_clean = [re.sub('놀란\\w+|감독\\w+|크리스토\\w+|감독+|놀란+', '감독', i) for i in review_clean]\n",
    "review_clean = [re.sub('액션\\w+|액션+', '액션', i) for i in review_clean]\n",
    "review_clean = [re.sub('인비\\w+|인버\\w+|인버전\\w+', '인버전', i) for i in review_clean]\n",
    "review_clean = [re.sub('\\w+재미없\\w+|재미없\\w+|재미가없\\w+|재미드럽게없다|재밌진않았던', '디올', i) for i in review_clean]\n",
    "review_clean = [re.sub('\\w+재미\\w+|재미\\w+|\\w+재밌\\w+|재밌\\w+|\\w+재밋\\w+|재밋\\w+', '샤넬', i) for i in review_clean]\n",
    "review_clean = [re.sub('관객가지고노는영화임걍|관객무시|관객우롱|관객이따라가긴|관객수준', '버버리', i) for i in review_clean]\n",
    "review_clean = [re.sub('로버트\\w+|패티슨\\w+|패틴슨\\w+', '로버트', i) for i in review_clean]\n",
    "review_clean = [re.sub('머리아\\w+|머리쓰\\w+|머리만\\w+| 머리깨\\w+|머리가\\w+', '생로랑', i) for i in review_clean]\n",
    "review_clean = [re.sub('집중도않\\w+|집중이안\\w+|집중력장애|집중안\\w+|집중 안\\w+', '라일락', i) for i in review_clean]"
   ]
  },
  {
   "cell_type": "code",
   "execution_count": null,
   "id": "fcc69f5b",
   "metadata": {},
   "outputs": [],
   "source": [
    "# 형태소 태깅\n",
    "from konlpy.tag import Okt\n",
    "okt = Okt()"
   ]
  },
  {
   "cell_type": "code",
   "execution_count": null,
   "id": "0b9c380c",
   "metadata": {},
   "outputs": [],
   "source": [
    "# 필요한 품사 4가지만 추출하는 함수\n",
    "def okt_pos(arg):\n",
    "    token = []\n",
    "    for i in okt.pos(arg):\n",
    "        if i[1] in ['Noun', 'Verb', 'Adjective', 'Punctuation']:\n",
    "            token.append(i[0])\n",
    "    return list(token)"
   ]
  },
  {
   "cell_type": "code",
   "execution_count": null,
   "id": "8a352af4",
   "metadata": {},
   "outputs": [],
   "source": [
    "okt_pos(review_clean[13])"
   ]
  },
  {
   "cell_type": "code",
   "execution_count": null,
   "id": "deab324b",
   "metadata": {},
   "outputs": [],
   "source": [
    "# 하나의 문장들로 만들기\n",
    "token = [okt_pos(i) for i in review_clean]\n",
    "token[1]"
   ]
  },
  {
   "cell_type": "code",
   "execution_count": null,
   "id": "87c213d5",
   "metadata": {},
   "outputs": [],
   "source": [
    "contents_token = [' '.join(i) for i in token]\n",
    "contents_token[0:10]\n",
    "contents_token[6]"
   ]
  },
  {
   "cell_type": "code",
   "execution_count": null,
   "id": "3b1ead20",
   "metadata": {},
   "outputs": [],
   "source": [
    "# 형태소 전처리 확인\n",
    "for i in contents_token:\n",
    "    if re.findall('스포\\w+|스포+', i) != []:\n",
    "        print(re.findall('스포\\w+|스포+', i))"
   ]
  },
  {
   "cell_type": "code",
   "execution_count": null,
   "id": "891f5b36",
   "metadata": {},
   "outputs": [],
   "source": [
    "for i in contents_token:\n",
    "    if re.findall('액션\\w+|액션+', i) != []:\n",
    "        print(re.findall('액션\\w+|액션+', i))    "
   ]
  },
  {
   "cell_type": "code",
   "execution_count": null,
   "id": "7eec4364",
   "metadata": {},
   "outputs": [],
   "source": [
    "for i in contents_token:\n",
    "    if re.findall('음향\\w+|음향+', i) != []:\n",
    "        print(re.findall('음향\\w+|음향+', i))"
   ]
  },
  {
   "cell_type": "code",
   "execution_count": null,
   "id": "a7fe1b9d",
   "metadata": {},
   "outputs": [],
   "source": [
    "for i in contents_token:\n",
    "    if re.findall('재밌\\w+|재미\\w+|재미+|재밌+', i) != []:\n",
    "        print(re.findall('재밌\\w+|재미\\w+|재미+|재밌+', i))    # 재미"
   ]
  },
  {
   "cell_type": "code",
   "execution_count": null,
   "id": "aeda82b6",
   "metadata": {},
   "outputs": [],
   "source": [
    "for i in contents_token:\n",
    "    if re.findall('이해\\w+|이해+', i) != []:\n",
    "        print(re.findall('이해\\w+|이해+', i))"
   ]
  },
  {
   "cell_type": "code",
   "execution_count": null,
   "id": "4a0afc04",
   "metadata": {},
   "outputs": [],
   "source": [
    "for i in contents_token:\n",
    "    if re.findall('다크나이트|인셉션|덩케르트|인터스텔라', i) != []:\n",
    "        print(re.findall('다크나이트|인셉션|덩케르트|인터스텔라', i))"
   ]
  },
  {
   "cell_type": "code",
   "execution_count": null,
   "id": "27add29e",
   "metadata": {},
   "outputs": [],
   "source": [
    "# 형태소 전처리(품사 형성후 제대로 되지 않은 부분 처리와 유사어 처리)\n",
    "for i in review_pos:\n",
    "    if re.findall('인\\w+', i) != []:\n",
    "        print(re.findall('인\\w+', i))"
   ]
  },
  {
   "cell_type": "code",
   "execution_count": null,
   "id": "4cb10fcf",
   "metadata": {},
   "outputs": [],
   "source": [
    "review_pos = [re.sub('스포\\w+', '스포', i) for i in contents_token]\n",
    "review_pos = [re.sub('액션\\w+|액션+', '액션', i) for i in review_pos]\n",
    "review_pos = [re.sub('어렵\\w+|어려\\w+|어렵+|어려+', '어려운', i) for i in review_pos]\n",
    "review_pos = [re.sub('난해\\w+|난해+', '난해한', i) for i in review_pos]\n",
    "review_pos = [re.sub('모르\\w+|몰라+', '모르겠다', i) for i in review_pos]\n",
    "review_pos = [re.sub('복잡\\w+|복잡+', '복잡한', i) for i in review_pos]\n",
    "review_pos = [re.sub('불친절\\w+', '불친절', i) for i in review_pos]\n",
    "review_pos = [re.sub('테넷\\w+', '테넷', i) for i in review_pos]\n",
    "review_pos = [re.sub('\\w+영화', '영화', i) for i in review_pos]\n",
    "review_pos = [re.sub('가능\\w+', '가능', i) for i in review_pos]\n",
    "review_pos = [re.sub('가득\\w+', '가득', i) for i in review_pos]\n",
    "review_pos = [re.sub('강추또', '강추', i) for i in review_pos]\n",
    "review_pos = [re.sub('꿀잼\\w+', '꿀잼', i) for i in review_pos]\n",
    "review_pos = [re.sub('굿\\w+', '굿', i) for i in review_pos]\n",
    "review_pos = [re.sub('궁금\\w+', '궁금', i) for i in review_pos]\n",
    "review_pos = [re.sub('단순\\w+', '단순', i) for i in review_pos]\n",
    "review_pos = [re.sub('대단\\w+', '대단', i) for i in review_pos]\n",
    "review_pos = [re.sub('러닝+', '', i) for i in review_pos]\n",
    "review_pos = [re.sub('개망작', '망작', i) for i in review_pos]\n",
    "review_pos = [re.sub('메세지+|메시지+', '메세지', i) for i in review_pos]\n",
    "review_pos = [re.sub('몰입도', '몰입', i) for i in review_pos]\n",
    "review_pos = [re.sub('물리\\w+', '물리', i) for i in review_pos]\n",
    "review_pos = [re.sub('뭔|뭐|뭘', '뭐지', i) for i in review_pos]\n",
    "review_pos = [re.sub('방법|방식', '방법', i) for i in review_pos]\n",
    "review_pos = [re.sub('사운드\\w+|음악\\w+|음향\\w+|음향|음악|사운드', '음향', i) for i in review_pos]\n",
    "review_pos = [re.sub('남주\\w+|여주\\w+|배우\\w+|등장인물\\w+|인물\\w+', '등장인물', i) for i in review_pos]\n",
    "review_pos = [re.sub('남주+|여주+|배우+|등장인물+|인물+', '등장인물', i) for i in review_pos]\n",
    "review_pos = [re.sub('번역\\w+', '번역', i) for i in review_pos]\n",
    "review_pos = [re.sub('부족\\w+', '부족', i) for i in review_pos]\n",
    "review_pos = [re.sub('생각\\w+', '생각', i) for i in review_pos]\n",
    "review_pos = [re.sub('소름\\w+', '소름', i) for i in review_pos]\n",
    "review_pos = [re.sub('속도로', '속도', i) for i in review_pos]\n",
    "review_pos = [re.sub('솔직\\w+|솔직+', '솔직히', i) for i in review_pos]\n",
    "review_pos = [re.sub('역+|역행+|순행+|순+|순방+|역방+|시간여행+', '시간역행', i) for i in review_pos]\n",
    "review_pos = [re.sub('신기\\w+', '신기', i) for i in review_pos]\n",
    "review_pos = [re.sub('신선\\w+|신선+', '신선한', i) for i in review_pos]\n",
    "review_pos = [re.sub('실패\\w+|실패+', '실패', i) for i in review_pos]\n",
    "review_pos = [re.sub('아쉬\\w+|아쉬+', '아쉬운', i) for i in review_pos]\n",
    "review_pos = [re.sub('악역+|악당+', '악당', i) for i in review_pos]\n",
    "review_pos = [re.sub('연기\\w+|연기+', '연기력', i) for i in review_pos]\n",
    "review_pos = [re.sub('영상+|상미+', '영상미', i) for i in review_pos]\n",
    "review_pos = [re.sub('오랜만+|오래간만+', '오랜만', i) for i in review_pos]\n",
    "review_pos = [re.sub('완벽+|완벽+', '완벽하게', i) for i in review_pos]\n",
    "review_pos = [re.sub('욕구+|욕심+', '욕심', i) for i in review_pos]\n",
    "review_pos = [re.sub('유튜브+|유투브+|유튭+', '유튜브', i) for i in review_pos]\n",
    "review_pos = [re.sub('이상\\w+|이상+', '이상한', i) for i in review_pos]\n",
    "review_pos = [re.sub('인간\\w+|인간+', '인간', i) for i in review_pos]\n",
    "review_pos = [re.sub('일어난\\w+|일어난+|일어날\\w+|일어날+', '일어난', i) for i in review_pos]\n",
    "review_pos = [re.sub('모르\\w+', '모르겠음', i) for i in review_pos]\n",
    "review_pos = [re.sub('정신\\w+|정신+', '정신', i) for i in review_pos]\n",
    "review_pos = [re.sub('절정|정점|하이라이트', '하이라이트', i) for i in review_pos]\n",
    "review_pos = [re.sub('매우|정말|진심|진정|진짜\\w+|진정\\w+|진짜', '진짜', i) for i in review_pos]\n",
    "review_pos = [re.sub('좋\\w+', '좋음', i) for i in review_pos]\n",
    "review_pos = [re.sub('짜여\\w+|짜임\\w+|짜임+', '짜임새', i) for i in review_pos]\n",
    "review_pos = [re.sub('창의\\w+|창의+', '창의적', i) for i in review_pos]\n",
    "review_pos = [re.sub('천재신', '천재', i) for i in review_pos]\n",
    "review_pos = [re.sub('촬영상', '촬영', i) for i in review_pos]\n",
    "review_pos = [re.sub('최강|최고\\w+|최고+', '최고', i) for i in review_pos]\n",
    "review_pos = [re.sub('최대\\w+|최대+', '최대한', i) for i in review_pos]\n",
    "review_pos = [re.sub('최소\\w+|최소+', '최소한', i) for i in review_pos]\n",
    "review_pos = [re.sub('피곤\\w+', '피곤', i) for i in review_pos]\n",
    "review_pos = [re.sub('흥미\\w+|흥미+', '흥미로운', i) for i in review_pos]\n",
    "review_pos = [re.sub('훌륭\\w+|훌륭+', '훌륭한', i) for i in review_pos]\n",
    "review_pos = [re.sub('힘듦|힘들\\w+|힘들+', '힘들다', i) for i in review_pos]\n",
    "review_pos = [re.sub('전선', '이해안감', i) for i in review_pos]\n",
    "review_pos = [re.sub('우롱차', '이해감', i) for i in review_pos]\n",
    "review_pos = [re.sub('디올', '재미없음', i) for i in review_pos]\n",
    "review_pos = [re.sub('샤넬', '재미있음', i) for i in review_pos]\n",
    "review_pos = [re.sub('버버리', '관객우롱', i) for i in review_pos]\n",
    "review_pos = [re.sub('생로랑', '머리아픔', i) for i in review_pos]\n",
    "review_pos = [re.sub('라일락', '집중안됨', i) for i in review_pos]\n",
    "review_pos = [re.sub('버전', '인버전', i) for i in review_pos]\n",
    "review_pos = [re.sub('시간역행시|시간역행행|시간역행간', '시간역행', i) for i in review_pos]\n",
    "review_pos = [re.sub('보등장인물', '등장인물', i) for i in review_pos]"
   ]
  },
  {
   "cell_type": "code",
   "execution_count": 1,
   "id": "d55e5a19",
   "metadata": {},
   "outputs": [],
   "source": [
    "import pickle"
   ]
  },
  {
   "cell_type": "code",
   "execution_count": null,
   "id": "a1a95f44",
   "metadata": {},
   "outputs": [],
   "source": [
    "# 형태소 전처리를 마친 데이터를 바이너리파일로 저장\n",
    "with open('c:/data/review_pos_tenet.pkl', 'wb') as file:\n",
    "    pickle.dump(review_pos, file)"
   ]
  },
  {
   "cell_type": "code",
   "execution_count": 2,
   "id": "c5204afc",
   "metadata": {},
   "outputs": [],
   "source": [
    "# 바이너리파일 불러오기\n",
    "with open('c:/data/review_pos_tenet.pkl', 'rb') as file:\n",
    "    review_pos = pickle.load(file)"
   ]
  }
 ],
 "metadata": {
  "kernelspec": {
   "display_name": "Python 3",
   "language": "python",
   "name": "python3"
  },
  "language_info": {
   "codemirror_mode": {
    "name": "ipython",
    "version": 3
   },
   "file_extension": ".py",
   "mimetype": "text/x-python",
   "name": "python",
   "nbconvert_exporter": "python",
   "pygments_lexer": "ipython3",
   "version": "3.8.8"
  }
 },
 "nbformat": 4,
 "nbformat_minor": 5
}
